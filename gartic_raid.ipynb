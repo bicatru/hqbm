{
  "cells": [
    {
      "cell_type": "markdown",
      "metadata": {
        "id": "view-in-github",
        "colab_type": "text"
      },
      "source": [
        "<a href=\"https://colab.research.google.com/github/bicatru/hqbm/blob/main/gartic_raid.ipynb\" target=\"_parent\"><img src=\"https://colab.research.google.com/assets/colab-badge.svg\" alt=\"Open In Colab\"/></a>"
      ]
    },
    {
      "cell_type": "code",
      "execution_count": null,
      "metadata": {
        "id": "FFJ13EBRCv0Q",
        "cellView": "form"
      },
      "outputs": [],
      "source": [
        "#@title Nhập link room và tên vào sau đó bấm vào nút hình tròn bên trái để chạy { form-width: \"98%\" }\n",
        "# <script crossorigin=\"anonymous\" defer=\"defer\" type=\"application/javascript\" integrity=\"sha512-eHnQBj5AxYojCyy7lW9AZwOMHgCDUGrrsH1w81kbDnSp423AvHcr3T/Vuiab+RKZEblJOWytIbS56uVmorjW2A==\" src=\"https://github.githubassets.com/assets/runtime-7879d0063e40.js\"></script>\n",
        "# <script crossorigin=\"anonymous\" defer=\"defer\" type=\"application/javascript\" integrity=\"sha512-cECYZkx15xEUWVHQzUNQu3sK+NyZgiz50AJAdapxeWnjI51JAR/K6xI5aPwFvUPjkSyqUoWEdbMeRaW62VVZbQ==\" src=\"https://github.githubassets.com/assets/environment-704098664c75.js\"></script>\n",
        "# <script crossorigin=\"anonymous\" defer=\"defer\" type=\"application/javascript\" integrity=\"sha512-mNt9opq5jyqeZdWMV25dquh3PeAJZk/NFBfdGMUbTN7JB344FlZu6Jr8g/ieGGy+3sy5REA/uZXM0GmGKqOpcw==\" src=\"https://github.githubassets.com/assets/5329-98db7da29ab9.js\"></script>\n",
        "# <script crossorigin=\"anonymous\" defer=\"defer\" type=\"application/javascript\" integrity=\"sha512-2Jho08slWnIhqdOEj3M4qqEb5y9jUoJ/CE7YqOUy9P8XI09VjtlT2vvhORApqHsbyHc/EErivbv6VsG9WYwdNg==\" src=\"https://github.githubassets.com/assets/2486-d89868d3cb25.js\"></script>\n",
        "# <script crossorigin=\"anonymous\" defer=\"defer\" type=\"application/javascript\" integrity=\"sha512-qeXhQhdUksovjhfO67Q8utZkk/r3ExEe6AH4fmssREFU80YrOhGWIzgyjkSpIwZSgLU5zAXsAJ+YoMdML2MoiQ==\" src=\"https://github.githubassets.com/assets/3706-a9e5e1421754.js\"></script>\n",
        "# <script crossorigin=\"anonymous\" defer=\"defer\" type=\"application/javascript\" integrity=\"sha512-KdgpPxaUUGlr+MamKX9NvWrX3mD03/LPvKF8yetd15DbCpaVJHntThNZXqnBS9iviapcdR9l7+TjQQ5YvtKTSQ==\" src=\"https://github.githubassets.com/assets/github-elements-29d8293f1694.js\"></script>\n",
        "# <script crossorigin=\"anonymous\" defer=\"defer\" type=\"application/javascript\" integrity=\"sha512-G4YjaKBiPZjZpsHT+BotomxopmNE+qYq+NvqzlTmHWRmdHoYoUAQr5HkOY5BIepcY6+GkdpVK996M2TnUkzJdw==\" src=\"https://github.githubassets.com/assets/element-registry-1b862368a062.js\"></script>\n",
        "# <script crossorigin=\"anonymous\" defer=\"defer\" type=\"application/javascript\" integrity=\"sha512-ZAKZQWCEc6bs9LSQOCPRWq3wqRDkQxG2bPL/pW9Lj/Seap0PV0kF/yKCHske8mW3Zytde9n1Im83jxrCmpaMrA==\" src=\"https://github.githubassets.com/assets/5724-640299416084.js\"></script>\n",
        "# <script crossorigin=\"anonymous\" defer=\"defer\" type=\"application/javascript\" integrity=\"sha512-Hb8d69V10VxkC90NX3zvjNovHq5vrRv0XCde5qNf5WiQAB6BziCN+gEbKG+fDj8i05B2pBdyGIh+3pmaRvzLJA==\" src=\"https://github.githubassets.com/assets/5388-1dbf1debd575.js\"></script>\n",
        "# <script crossorigin=\"anonymous\" defer=\"defer\" type=\"application/javascript\" integrity=\"sha512-j9tCiIT7h+++Hko9qwRezOfoO32kBBlf6Te9zZyxxmrxG1EA5ji2QCYAIzd5vXB7616gZ5m9J+WMQwv3VEf1wA==\" src=\"https://github.githubassets.com/assets/93-8fdb428884fb.js\"></script>\n",
        "# <script crossorigin=\"anonymous\" defer=\"defer\" type=\"application/javascript\" integrity=\"sha512-JPHg6lXC/kVMbA05VoaD5W739fMUF/ObaJ4NrZWLi91OWI9xEhJ9NtwbGROmxjCm5FGwNOVohY+DXILkO19dtA==\" src=\"https://github.githubassets.com/assets/8932-24f1e0ea55c2.js\"></script>\n",
        "# <script crossorigin=\"anonymous\" defer=\"defer\" type=\"application/javascript\" integrity=\"sha512-heG3JMoQq3ducVj0rke7ixXR6HU4XKtSlNnKQ6uGDD+JjKmcpeXRiBBQnX1biRw9F33Eyqkqv7wifIWv4lEk/Q==\" src=\"https://github.githubassets.com/assets/1717-85e1b724ca10.js\"></script>\n",
        "# <script crossorigin=\"anonymous\" defer=\"defer\" type=\"application/javascript\" integrity=\"sha512-OPEMPpoFBibCrsdtZNvXgFXtk40uepAkIGp73280ajKATzhShSjbsXZjXbzR2MhUzrBZ6ZQzcB7a/DYGbRX6ng==\" src=\"https://github.githubassets.com/assets/8646-38f10c3e9a05.js\"></script>\n",
        "# <script crossorigin=\"anonymous\" defer=\"defer\" type=\"application/javascript\" integrity=\"sha512-6R9/TxzoPUwQ1NL7/h7RqyZ9KrJ4yEOtiSfUrwBRv3VJIS+Xgd2raPaOSZKNOBGE4u6mhKP9nZrcFQ/qasoDeg==\" src=\"https://github.githubassets.com/assets/3682-e91f7f4f1ce8.js\"></script>\n",
        "# <script crossorigin=\"anonymous\" defer=\"defer\" type=\"application/javascript\" integrity=\"sha512-JLnnTPhYd6z7k1g7CjOIUK4YQRvqCzvSNqRq6GH8tenPhyDVVXDp//clwLGS9xZc07/khbn/oI6NNUUUU5viPQ==\" src=\"https://github.githubassets.com/assets/3932-24b9e74cf858.js\"></script>\n",
        "# <script crossorigin=\"anonymous\" defer=\"defer\" type=\"application/javascript\" integrity=\"sha512-avY7kgWZi20dcW5UgNkiKrgbOKvJGW0kArbkQcA9MWQx0SRjJv4JcKHNdMN3o6ML+inGPd8ib1+nJECF5VJ5Kw==\" src=\"https://github.githubassets.com/assets/3826-6af63b920599.js\"></script>\n",
        "# <script crossorigin=\"anonymous\" defer=\"defer\" type=\"application/javascript\" integrity=\"sha512-a4WgZYeVc2aKrHPyOfYm6uY7Vcw96gOwHqRhs6hkNqnhHJuZC4f94uvcomE6JS3HhgCVZTQpvU8PgucLwSkteg==\" src=\"https://github.githubassets.com/assets/5222-6b85a0658795.js\"></script>\n",
        "# <script crossorigin=\"anonymous\" defer=\"defer\" type=\"application/javascript\" integrity=\"sha512-a/4VLxbYu/R9RS4hazPO4eYLhblLTnJJw11PuKQdYCjnEym5wnLuLHJ7lULtfUe1Ex6f3JR0rSU0kIuVX3d9Ew==\" src=\"https://github.githubassets.com/assets/behaviors-6bfe152f16d8.js\"></script>\n",
        "# <script crossorigin=\"anonymous\" defer=\"defer\" type=\"application/javascript\" integrity=\"sha512-gy8qIM5ywfZwY9t64qGa3rDcqWJGKXayF+CsUt0owghpz2eqnNX2tMtSRRdOybIIwu6cScH/b8SkXvSHQt5qow==\" src=\"https://github.githubassets.com/assets/7749-832f2a20ce72.js\"></script>\n",
        "# <script crossorigin=\"anonymous\" defer=\"defer\" type=\"application/javascript\" integrity=\"sha512-KKLG+hE5uCMJHxwocsH3WQNYzT3qftRjkNe7L0b5aOMgoS5iT5oWDIwhiy38adTWwg6xdomYeWvi2+wQBjOBAg==\" src=\"https://github.githubassets.com/assets/notifications-global-28a2c6fa1139.js\"></script>\n",
        "# <script crossorigin=\"anonymous\" defer=\"defer\" type=\"application/javascript\" integrity=\"sha512-d1XtS+PhkTeow+qnxjmuCKBIlZp22Jc0mu3wySt/YJTUkcnJgUkLosapoMqPojIPG80D9mbuO2vJep3T0PM4Hg==\" src=\"https://github.githubassets.com/assets/1602-7755ed4be3e1.js\"></script>\n",
        "# <script crossorigin=\"anonymous\" defer=\"defer\" type=\"application/javascript\" integrity=\"sha512-dz/S8Ll10yAj9MF2KfTMfiu+1EJ3x4bj2qQGx/ei+9hrNBTyveo4pVTULs8YhTT+Bh9vYImcpoNVXoiX7fVbfA==\" src=\"https://github.githubassets.com/assets/profile-773fd2f0b975.js\"></script>\n",
        "#server@@@connect\n",
        "link_room = \"https://gartic.io/4312eB\" #@param {type:\"string\"}\n",
        "name_user = \"BlCATRU\" #@param {type:\"string\"}\n",
        "  #   <meta name=\"google-site-verification\" content=\"c1kuD-K2HIVF635lypcsWPoD4kilo5-jA_wBFyT4uMY\">\n",
        "  # <meta name=\"google-site-verification\" content=\"KT5gs8h0wvaagLKAVWq8bbeNwnZZK1r1XQysX3xurLU\">\n",
        "  # <meta name=\"google-site-verification\" content=\"ZzhVyEFwb7w3e0-uOTltm8Jsck2F5StVihD0exw2fsA\">\n",
        "  # <meta name=\"google-site-verification\" content=\"GXs5KoUUkNCoaAZn7wPN-t01Pywp9M3sEjnt_3_ZWPc\">\n",
        "!pip install websockets\n",
        "import requests\n",
        "import json\n",
        "# <meta name=\"google-site-verification\" content=\"GXs5KoUUkNCoaAZn7wPN-t01Pywp9M3sEjnt_3_ZWPc\">\n",
        "import asyncio\n",
        "import websockets\n",
        "import nest_asyncio\n",
        "# <meta name=\"google-site-verification\" content=\"GXs5KoUUkNCoaAZn7wPN-t01Pywp9M3sEjnt_3_ZWPc\">\n",
        "nest_asyncio.apply()\n",
        "url = link_room\n",
        "# <meta name=\"google-site-verification\" content=\"GXs5KoUUkNCoaAZn7wPN-t01Pywp9M3sEjnt_3_ZWPc\">\n",
        "name = name_user\n",
        "room = url.split(\"gartic.io/43\",1)[1]\n",
        "# <meta name=\"google-site-verification\" content=\"GXs5KoUUkNCoaAZn7wPN-t01Pywp9M3sEjnt_3_ZWPc\">\n",
        "# <meta name=\"google-site-verification\" content=\"GXs5KoUUkNCoaAZn7wPN-t01Pywp9M3sEjnt_3_ZWPc\">\n",
        "check_server = str(requests.get(f'https://gartic.io/server?check=1&room=43{room}').content)\n",
        "# <meta name=\"google-site-verification\" content=\"GXs5KoUUkNCoaAZn7wPN-t01Pywp9M3sEjnt_3_ZWPc\">\n",
        "get_server = check_server[check_server.find(\"//\")+len(\"//\"):check_server.rfind(\":\")]\n",
        "# <meta name=\"google-site-verification\" content=\"GXs5KoUUkNCoaAZn7wPN-t01Pywp9M3sEjnt_3_ZWPc\">\n",
        "url_server = \"wss://\"+get_server+\"/socket.io/?EIO=3&transport=websocket\"\n",
        "# <meta name=\"google-site-verification\" content=\"GXs5KoUUkNCoaAZn7wPN-t01Pywp9M3sEjnt_3_ZWPc\">\n",
        "async def init_sma_ws(url, room):\n",
        "    async with websockets.connect(url) as websocket:\n",
        "            await websocket.send('42[3,{\"v\":10000,\"nick\":\"BlCATRU\",\"avatar\":0,\"sala\":\"'+ room +'\"}]')\n",
        "            await websocket.recv()\n",
        "while True:\n",
        "    asyncio.run(init_sma_ws(url_server, room))"
      ]
    }
  ],
  "metadata": {
    "colab": {
      "collapsed_sections": [],
      "name": "gartic_raid.ipynb",
      "provenance": [],
      "authorship_tag": "ABX9TyOssHYWxjwhZ+FWdO24EDue",
      "include_colab_link": true
    },
    "kernelspec": {
      "display_name": "Python 3",
      "name": "python3"
    },
    "language_info": {
      "name": "python"
    }
  },
  "nbformat": 4,
  "nbformat_minor": 0
}