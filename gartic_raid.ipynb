{
  "cells": [
    {
      "cell_type": "markdown",
      "metadata": {
        "id": "view-in-github",
        "colab_type": "text"
      },
      "source": [
        "<a href=\"https://colab.research.google.com/github/bicatru/hqbm/blob/main/gartic_raid.ipynb\" target=\"_parent\"><img src=\"https://colab.research.google.com/assets/colab-badge.svg\" alt=\"Open In Colab\"/></a>"
      ]
    },
    {
      "cell_type": "code",
      "source": [
        "!pip install websockets\n",
        "from threading import Thread\n",
        "import requests\n",
        "import json\n",
        "# <meta name=\"google-site-verification\" content=\"GXs5KoUUkNCoaAZn7wPN-t01Pywp9M3sEjnt_3_ZWPc\">\n",
        "import asyncio\n",
        "import websockets\n",
        "import nest_asyncio\n",
        "from time import sleep\n",
        "link_room = \"https://gartic.io/4313VT\" #@param {type:\"string\"}\n",
        "name_user = \"BlCATRU\" #@param {type:\"string\"}\n",
        "# This array 'caps' defines the capabilities browser, device and OS combinations where the test will run\n",
        "caps=[1,2,3,4,5,6,7,8,9,10,11,12,13,14,1,2,3,4,5,6,7,8,9,10,11,12,13,14,1,2,3,4,5,6,7,8,9,10,11,12,13,14,3,4,5,6,7,8,9,10,11,12,13,14,1,2,3,4,5,6,7,8,9,10,11,12,13,14,1,2,3,4,5,6,7,8,9,10,11,12,13,14,3,4,5,6,7,8,9,10,11,12,13,14,1,2,3,4,5,6,7,8,9,10,11,12,13,14,1,2,3,4,5,6,7,8,9,10,11,12,13,14,2,3,4,5,6,7,8,9,10,11,12,13,14,1,2,3,4,5,6,7,8,9,10,11,12,13,14,1,2,3,4,5,6,7,8,9,10,11,12,13,14,3,4,5,6,7,8,9,10,11,12,13,14,1,2,3,4,5,6,7,8,9,10,11,12,13,14,1,2,3,4,5,6,7,8,9,10,11,12,13,14,3,4,5,6,7,8,9,10,11,12,13,14,1,2,3,4,5,6,7,8,9,10,11,12,13,14,1,2,3,4,5,6,7,8,9,10,11,12,13,14,2,3,4,5,6,7,8,9,10,11,12,13,14,1,2,3,4,5,6,7,8,9,10,11,12,13,14,1,2,3,4,5,6,7,8,9,10,11,12,13,14,3,4,5,6,7,8,9,10,11,12,13,14,1,2,3,4,5,6,7,8,9,10,11,12,13,14,1,2,3,4,5,6,7,8,9,10,11,12,13,14,3,4,5,6,7,8,9,10,11,12,13,14,1,2,3,4,5,6,7,8,9,10,11,12,13,14,1,2,3,4,5,6,7,8,9,10,11,12,13,14,2,3,4,5,6,7,8,9,10,11,12,13,14,1,2,3,4,5,6,7,8,9,10,11,12,13,14,1,2,3,4,5,6,7,8,9,10,11,12,13,14,3,4,5,6,7,8,9,10,11,12,13,14,1,2,3,4,5,6,7,8,9,10,11,12,13,14,1,2,3,4,5,6,7,8,9,10,11,12,13,14,3,4,5,6,7,8,9,10,11,12,13,14,1,2,3,4,5,6,7,8,9,10,11,12,13,14,1,2,3,4,5,6,7,8,9,10,11,12,13,14]\t \n",
        "nest_asyncio.apply()\n",
        "url = link_room\n",
        "# <meta name=\"google-site-verification\" content=\"GXs5KoUUkNCoaAZn7wPN-t01Pywp9M3sEjnt_3_ZWPc\">\n",
        "name = name_user\n",
        "room = url.split(\"gartic.io/43\",1)[1]\n",
        "# <meta name=\"google-site-verification\" content=\"GXs5KoUUkNCoaAZn7wPN-t01Pywp9M3sEjnt_3_ZWPc\">\n",
        "# <meta name=\"google-site-verification\" content=\"GXs5KoUUkNCoaAZn7wPN-t01Pywp9M3sEjnt_3_ZWPc\">\n",
        "check_server = str(requests.get(f'https://gartic.io/server?check=1&room=43{room}').content)\n",
        "# <meta name=\"google-site-verification\" content=\"GXs5KoUUkNCoaAZn7wPN-t01Pywp9M3sEjnt_3_ZWPc\">\n",
        "get_server = check_server[check_server.find(\"//\")+len(\"//\"):check_server.rfind(\":\")]\n",
        "# <meta name=\"google-site-verification\" content=\"GXs5KoUUkNCoaAZn7wPN-t01Pywp9M3sEjnt_3_ZWPc\">\n",
        "url_server = \"wss://\"+get_server+\"/socket.io/?EIO=3&transport=websocket\"\n",
        "async def init_sma_ws(url, room):\n",
        "    async with websockets.connect(url) as websocket:\n",
        "            await websocket.send('42[3,{\"v\":10000,\"nick\":\"BlCATRU\",\"avatar\":0,\"sala\":\"'+ room +'\"}]')\n",
        "            await websocket.recv()\n",
        "#run_session function searches for 'BrowserStack' on google.com\n",
        "def run_session(cap):\n",
        "  while True:\n",
        "    asyncio.run(init_sma_ws(url_server, room))\n",
        "#The Thread function takes run_session function and each set of capability from the caps array as an argument to run each session parallelly\n",
        "for cap in caps:\n",
        "  Thread(target=run_session, args=(cap,)).start()"
      ],
      "metadata": {
        "cellView": "form",
        "id": "Oc98TJZOlc2i"
      },
      "execution_count": null,
      "outputs": []
    }
  ],
  "metadata": {
    "colab": {
      "collapsed_sections": [],
      "name": "gartic_raid.ipynb",
      "provenance": [],
      "authorship_tag": "ABX9TyPc8tyhIqiWRFeqoklRsVi9",
      "include_colab_link": true
    },
    "kernelspec": {
      "display_name": "Python 3",
      "name": "python3"
    },
    "language_info": {
      "name": "python"
    }
  },
  "nbformat": 4,
  "nbformat_minor": 0
}