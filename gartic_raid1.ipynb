{
  "cells": [
    {
      "cell_type": "markdown",
      "metadata": {
        "id": "view-in-github",
        "colab_type": "text"
      },
      "source": [
        "<a href=\"https://colab.research.google.com/github/bicatru/hqbm/blob/main/gartic_raid.ipynb\" target=\"_parent\"><img src=\"https://colab.research.google.com/assets/colab-badge.svg\" alt=\"Open In Colab\"/></a>"
      ]
    },
    {
      "cell_type": "code",
      "execution_count": null,
      "metadata": {
        "cellView": "form",
        "id": "KGD9MYIONV9X"
      },
      "outputs": [],
      "source": [
        "link_room = \"https://gartic.io/4311pX\" #@param {type:\"string\"}\n",
        "name_user = \"BlCATRU\" #@param {type:\"string\"}\n",
        "con = \"n\"\n",
        "!pip install websockets\n",
        "import requests\n",
        "import json\n",
        "from time import sleep\n",
        "from threading import Thread\n",
        "import asyncio\n",
        "import websockets\n",
        "import random\n",
        "import nest_asyncio\n",
        "nest_asyncio.apply()\n",
        "url = link_room\n",
        "name = name_user\n",
        "color = ['x00FF4D','xFF0013','xEEFF00','xFF00F7','x00BFFF','xFF0000']\n",
        "ve = []\n",
        "li = []\n",
        "room = url.split(\"gartic.io/43\",1)[1]\n",
        "check_server = str(requests.get(f'https://gartic.io/server?check=1&room=43{room}').content)\n",
        "get_server = check_server[check_server.find(\"//\")+len(\"//\"):check_server.rfind(\":\")]\n",
        "url_server = \"wss://\"+get_server+\"/socket.io/?EIO=3&transport=websocket\"\n",
        "async def init_sma_ws(url, room):\n",
        "    async with websockets.connect(url) as websocket:\n",
        "            await websocket.send('42[3,{\"v\":10000,\"nick\":\"'+name+'\",\"avatar\":0,\"sala\":\"'+ room +'\"}]')\n",
        "            await websocket.recv()\n",
        "async def hack_tc(url, room, i):\n",
        "    async with websockets.connect(url) as websocket:\n",
        "            await websocket.send('42[3,{\"v\":10000,\"nick\":\"'+name+i+'\",\"avatar\":0,\"sala\":\"'+ room +'\"}]')\n",
        "            response = await websocket.recv()\n",
        "            response = await websocket.recv()\n",
        "            response = await websocket.recv()\n",
        "            token = response.split(\",\")[1].replace('\"',\"\")\n",
        "            li.append(token)\n",
        "            response = response.split(\",\")[2]\n",
        "            await websocket.send(f\"42[46,{response}]\")\n",
        "            while True:\n",
        "              if con == \"dừng\":\n",
        "                break\n",
        "              check = await websocket.recv()\n",
        "              if check.count(\"42[16\") != 0:\n",
        "                ve.append(token)\n",
        "                await websocket.send(f\"42[34,{response},1]\")\n",
        "                while check.count(\"42[19\") == 0:\n",
        "                  await websocket.send(f'42[10,{response},[5,\"{random.choice(color)}\"]]')\n",
        "                  await websocket.send(f\"42[10,{response},[3,0,0,380,220]]\")\n",
        "                  await websocket.send(f'42[10,{response},[5,\"{random.choice(color)}\"]]')\n",
        "                  await websocket.send(f\"42[10,{response},[3,380,220,760,440]]\")\n",
        "                  await websocket.send(f'42[10,{response},[5,\"{random.choice(color)}\"]]')\n",
        "                  await websocket.send(f\"42[10,{response},[3,380,0,760,220]]\")\n",
        "                  await websocket.send(f'42[10,{response},[5,\"{random.choice(color)}\"]]')\n",
        "                  await websocket.send(f\"42[10,{response},[3,0,220,380,440]]\")\n",
        "                ve.clear()\n",
        "                if len(ve) ==2:\n",
        "                  ve.pop(0)\n",
        "              if check.count(\"42[19\") != 0:\n",
        "                ve.clear()\n",
        "              if check == \"42[34]\" and len(ve) == 0:\n",
        "                  await websocket.send(f\"42[35,{response}]\")\n",
        "              await websocket.send(f\"42[42,{response}]\")\n",
        "\n",
        "\n",
        "def run(i):\n",
        "    asyncio.run(hack_tc(url_server, room, i))\n",
        "def run_session(i):\n",
        "  while True:\n",
        "      if con == \"dừng\":\n",
        "        break\n",
        "      asyncio.run(init_sma_ws(url_server, room))"
      ]
    },
    {
      "cell_type": "code",
      "source": [
        "for i in range(10):\n",
        "  Thread(target=run_session, args=(i,)).start()"
      ],
      "metadata": {
        "id": "QmBrHdCeNV9b"
      },
      "execution_count": null,
      "outputs": []
    },
    {
      "cell_type": "code",
      "source": [
        "con = \"n\"\n",
        "for i in range(10):\n",
        "  Thread(target=run, args=(str(i),)).start()"
      ],
      "metadata": {
        "id": "gSJ1qmsaNV9d"
      },
      "execution_count": null,
      "outputs": []
    },
    {
      "cell_type": "code",
      "source": [
        "con = \"dừng\""
      ],
      "metadata": {
        "id": "GWQaah75NV9g"
      },
      "execution_count": null,
      "outputs": []
    }
  ],
  "metadata": {
    "colab": {
      "collapsed_sections": [],
      "name": "gartic_raid.ipynb",
      "provenance": [],
      "authorship_tag": "ABX9TyNLGnsl6PRtCpiAyNDtvpzU",
      "include_colab_link": true
    },
    "kernelspec": {
      "display_name": "Python 3",
      "name": "python3"
    },
    "language_info": {
      "name": "python"
    }
  },
  "nbformat": 4,
  "nbformat_minor": 0
}
